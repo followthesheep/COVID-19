{
 "cells": [
  {
   "cell_type": "code",
   "execution_count": 60,
   "metadata": {},
   "outputs": [],
   "source": [
    "import numpy as np\n",
    "import pandas as pd\n",
    "import pylab as plt\n",
    "import matplotlib\n",
    "%matplotlib inline\n",
    "font = {        'size'   : 16}\n",
    "matplotlib.rc('font', **font)"
   ]
  },
  {
   "cell_type": "code",
   "execution_count": 45,
   "metadata": {},
   "outputs": [],
   "source": [
    "# Read all the files\n",
    "dfConfirmedGlobal = pd.read_csv(r'https://raw.githubusercontent.com/CSSEGISandData/COVID-19/master/csse_covid_19_data/csse_covid_19_time_series/time_series_covid19_confirmed_global.csv')\n",
    "dfDeathsGlobal = pd.read_csv(r'https://raw.githubusercontent.com/CSSEGISandData/COVID-19/master/csse_covid_19_data/csse_covid_19_time_series/time_series_covid19_deaths_global.csv')\n",
    "\n",
    "baseURLFormat = 'https://raw.githubusercontent.com/CSSEGISandData/COVID-19/master/csse_covid_19_data/csse_covid_19_daily_reports/{}.csv'\n",
    "filePaths = [baseURLFormat.format(d.strftime('%m-%d-%Y')) for d in pd.date_range('2020-03-23', pd.to_datetime('today')).tolist()]\n",
    "\n",
    "df_from_each_file = []\n",
    "for f in filePaths:\n",
    "    try:        \n",
    "        df_from_each_file.append(pd.read_csv(f))\n",
    "    except:\n",
    "        break\n",
    "dfByDay = pd.concat(df_from_each_file, ignore_index=True)\n",
    "\n",
    "dfConfirmedUS = pd.read_csv(r'https://raw.githubusercontent.com/CSSEGISandData/COVID-19/master/archived_data/archived_time_series/time_series_19-covid-Confirmed_archived_0325.csv')\n",
    "dfConfirmedUS = dfConfirmedUS[dfConfirmedUS.columns[:-1]]\n",
    "dfDeathsUS = pd.read_csv(r'https://raw.githubusercontent.com/CSSEGISandData/COVID-19/master/archived_data/archived_time_series/time_series_19-covid-Deaths_archived_0325.csv')\n",
    "dfDeathsUS = dfDeathsUS[dfDeathsUS.columns[:-1]]\n",
    "\n",
    "# Get US data only\n",
    "dfConfirmedUS = dfConfirmedUS [(dfConfirmedUS['Country/Region'] == 'US') & (dfConfirmedUS['Province/State'] != 'US')]\n",
    "dfDeathsUS = dfDeathsUS [(dfDeathsUS['Country/Region'] == 'US') & (dfDeathsUS['Province/State'] != 'US')]\n",
    "\n",
    "# Merge columns after 3/23 when the timeseries broke\n",
    "dfByDayState = dfByDay[dfByDay.Country_Region == 'US'].groupby(['Last_Update', 'Province_State']).agg({'Confirmed':sum, 'Deaths':sum}).unstack(level=0)\n",
    "dfByDayStateConfirmed = dfByDayState[['Confirmed']]\n",
    "dfByDayStateConfirmed.columns = dfByDayStateConfirmed.columns.droplevel().map(lambda x: pd.to_datetime(x).strftime('%m/%d/%y'))\n",
    "\n",
    "dfConfirmedUSStates = dfConfirmedUS.merge(dfByDayStateConfirmed, how='left', left_on='Province/State', right_on='Province_State')\n",
    "dfConfirmedUSStates[dfConfirmedUSStates.columns[4:]] = dfConfirmedUSStates[dfConfirmedUSStates.columns[4:]].fillna(0).astype(np.int64)\n",
    "dfConfirmedUSStates = dfConfirmedUSStates.sort_values(dfConfirmedUSStates.columns[-1], ascending = False)\n",
    "\n",
    "dfByDayStateDeaths = dfByDayState[['Deaths']]\n",
    "dfByDayStateDeaths.columns = dfByDayStateDeaths.columns.droplevel().map(lambda x: pd.to_datetime(x).strftime('%m/%d/%y'))\n",
    "dfDeathsUSStates = dfDeathsUS.merge(dfByDayStateDeaths, how='left', left_on='Province/State', right_on='Province_State')\n",
    "dfDeathsUSStates[dfDeathsUSStates.columns[4:]] = dfDeathsUSStates[dfDeathsUSStates.columns[4:]].fillna(0).astype(np.int64)\n",
    "dfDeathsUSStates = dfDeathsUSStates.sort_values(dfDeathsUSStates.columns[-1], ascending = False)\n",
    "\n",
    "# Use dfConfirmedUSStates and dfDeathsUSStates"
   ]
  },
  {
   "cell_type": "code",
   "execution_count": 46,
   "metadata": {},
   "outputs": [],
   "source": [
    "tab_confirmed = dfConfirmedUSStates\n",
    "tab_deaths = dfDeathsUSStates\n",
    "\n",
    "# tab_confirmed = pd.read_csv('csse_covid_19_data/csse_covid_19_time_series/time_series_covid19_confirmed_global.csv')\n",
    "# tab_deaths = pd.read_csv('csse_covid_19_data/csse_covid_19_time_series/time_series_covid19_deaths_global.csv')\n",
    "# tab_recovered = pd.read_csv('csse_covid_19_data/csse_covid_19_time_series/time_series_covid19_recovered_global.csv')"
   ]
  },
  {
   "cell_type": "code",
   "execution_count": 47,
   "metadata": {},
   "outputs": [
    {
     "data": {
      "text/html": [
       "<div>\n",
       "<style scoped>\n",
       "    .dataframe tbody tr th:only-of-type {\n",
       "        vertical-align: middle;\n",
       "    }\n",
       "\n",
       "    .dataframe tbody tr th {\n",
       "        vertical-align: top;\n",
       "    }\n",
       "\n",
       "    .dataframe thead th {\n",
       "        text-align: right;\n",
       "    }\n",
       "</style>\n",
       "<table border=\"1\" class=\"dataframe\">\n",
       "  <thead>\n",
       "    <tr style=\"text-align: right;\">\n",
       "      <th></th>\n",
       "      <th>Province/State</th>\n",
       "      <th>Country/Region</th>\n",
       "      <th>Lat</th>\n",
       "      <th>Long</th>\n",
       "      <th>1/22/20</th>\n",
       "      <th>1/23/20</th>\n",
       "      <th>1/24/20</th>\n",
       "      <th>1/25/20</th>\n",
       "      <th>1/26/20</th>\n",
       "      <th>1/27/20</th>\n",
       "      <th>...</th>\n",
       "      <th>3/17/20</th>\n",
       "      <th>3/18/20</th>\n",
       "      <th>3/19/20</th>\n",
       "      <th>3/20/20</th>\n",
       "      <th>3/21/20</th>\n",
       "      <th>3/22/20</th>\n",
       "      <th>03/23/20</th>\n",
       "      <th>03/24/20</th>\n",
       "      <th>03/25/20</th>\n",
       "      <th>03/26/20</th>\n",
       "    </tr>\n",
       "  </thead>\n",
       "  <tbody>\n",
       "    <tr>\n",
       "      <th>1</th>\n",
       "      <td>New York</td>\n",
       "      <td>US</td>\n",
       "      <td>42.1657</td>\n",
       "      <td>-74.9481</td>\n",
       "      <td>0</td>\n",
       "      <td>0</td>\n",
       "      <td>0</td>\n",
       "      <td>0</td>\n",
       "      <td>0</td>\n",
       "      <td>0</td>\n",
       "      <td>...</td>\n",
       "      <td>1706</td>\n",
       "      <td>2495</td>\n",
       "      <td>5365</td>\n",
       "      <td>8310</td>\n",
       "      <td>11710</td>\n",
       "      <td>15793</td>\n",
       "      <td>20884</td>\n",
       "      <td>25681</td>\n",
       "      <td>30841</td>\n",
       "      <td>37877</td>\n",
       "    </tr>\n",
       "    <tr>\n",
       "      <th>9</th>\n",
       "      <td>New Jersey</td>\n",
       "      <td>US</td>\n",
       "      <td>40.2989</td>\n",
       "      <td>-74.5210</td>\n",
       "      <td>0</td>\n",
       "      <td>0</td>\n",
       "      <td>0</td>\n",
       "      <td>0</td>\n",
       "      <td>0</td>\n",
       "      <td>0</td>\n",
       "      <td>...</td>\n",
       "      <td>267</td>\n",
       "      <td>267</td>\n",
       "      <td>742</td>\n",
       "      <td>890</td>\n",
       "      <td>1327</td>\n",
       "      <td>1914</td>\n",
       "      <td>2844</td>\n",
       "      <td>3675</td>\n",
       "      <td>4402</td>\n",
       "      <td>6876</td>\n",
       "    </tr>\n",
       "    <tr>\n",
       "      <th>2</th>\n",
       "      <td>California</td>\n",
       "      <td>US</td>\n",
       "      <td>36.1162</td>\n",
       "      <td>-119.6816</td>\n",
       "      <td>0</td>\n",
       "      <td>0</td>\n",
       "      <td>0</td>\n",
       "      <td>0</td>\n",
       "      <td>0</td>\n",
       "      <td>0</td>\n",
       "      <td>...</td>\n",
       "      <td>698</td>\n",
       "      <td>751</td>\n",
       "      <td>952</td>\n",
       "      <td>1177</td>\n",
       "      <td>1364</td>\n",
       "      <td>1642</td>\n",
       "      <td>2108</td>\n",
       "      <td>2538</td>\n",
       "      <td>2998</td>\n",
       "      <td>3899</td>\n",
       "    </tr>\n",
       "    <tr>\n",
       "      <th>0</th>\n",
       "      <td>Washington</td>\n",
       "      <td>US</td>\n",
       "      <td>47.4009</td>\n",
       "      <td>-121.4905</td>\n",
       "      <td>0</td>\n",
       "      <td>0</td>\n",
       "      <td>0</td>\n",
       "      <td>0</td>\n",
       "      <td>0</td>\n",
       "      <td>0</td>\n",
       "      <td>...</td>\n",
       "      <td>1076</td>\n",
       "      <td>1014</td>\n",
       "      <td>1376</td>\n",
       "      <td>1524</td>\n",
       "      <td>1793</td>\n",
       "      <td>1996</td>\n",
       "      <td>2221</td>\n",
       "      <td>2328</td>\n",
       "      <td>2591</td>\n",
       "      <td>3207</td>\n",
       "    </tr>\n",
       "    <tr>\n",
       "      <th>44</th>\n",
       "      <td>Michigan</td>\n",
       "      <td>US</td>\n",
       "      <td>43.3266</td>\n",
       "      <td>-84.5361</td>\n",
       "      <td>0</td>\n",
       "      <td>0</td>\n",
       "      <td>0</td>\n",
       "      <td>0</td>\n",
       "      <td>0</td>\n",
       "      <td>0</td>\n",
       "      <td>...</td>\n",
       "      <td>65</td>\n",
       "      <td>83</td>\n",
       "      <td>334</td>\n",
       "      <td>552</td>\n",
       "      <td>788</td>\n",
       "      <td>1037</td>\n",
       "      <td>1329</td>\n",
       "      <td>1793</td>\n",
       "      <td>2296</td>\n",
       "      <td>2845</td>\n",
       "    </tr>\n",
       "  </tbody>\n",
       "</table>\n",
       "<p>5 rows × 69 columns</p>\n",
       "</div>"
      ],
      "text/plain": [
       "   Province/State Country/Region      Lat      Long  1/22/20  1/23/20  \\\n",
       "1        New York             US  42.1657  -74.9481        0        0   \n",
       "9      New Jersey             US  40.2989  -74.5210        0        0   \n",
       "2      California             US  36.1162 -119.6816        0        0   \n",
       "0      Washington             US  47.4009 -121.4905        0        0   \n",
       "44       Michigan             US  43.3266  -84.5361        0        0   \n",
       "\n",
       "    1/24/20  1/25/20  1/26/20  1/27/20  ...  3/17/20  3/18/20  3/19/20  \\\n",
       "1         0        0        0        0  ...     1706     2495     5365   \n",
       "9         0        0        0        0  ...      267      267      742   \n",
       "2         0        0        0        0  ...      698      751      952   \n",
       "0         0        0        0        0  ...     1076     1014     1376   \n",
       "44        0        0        0        0  ...       65       83      334   \n",
       "\n",
       "    3/20/20  3/21/20  3/22/20  03/23/20  03/24/20  03/25/20  03/26/20  \n",
       "1      8310    11710    15793     20884     25681     30841     37877  \n",
       "9       890     1327     1914      2844      3675      4402      6876  \n",
       "2      1177     1364     1642      2108      2538      2998      3899  \n",
       "0      1524     1793     1996      2221      2328      2591      3207  \n",
       "44      552      788     1037      1329      1793      2296      2845  \n",
       "\n",
       "[5 rows x 69 columns]"
      ]
     },
     "execution_count": 47,
     "metadata": {},
     "output_type": "execute_result"
    }
   ],
   "source": [
    "tab_confirmed.head()"
   ]
  },
  {
   "cell_type": "code",
   "execution_count": null,
   "metadata": {},
   "outputs": [],
   "source": []
  },
  {
   "cell_type": "code",
   "execution_count": 65,
   "metadata": {},
   "outputs": [],
   "source": [
    "us_confirmed = tab_confirmed[tab_confirmed['Country/Region'] == \"US\"]\n",
    "us_confirmed.head()\n",
    "ca = us_confirmed[us_confirmed['Province/State'] == 'California']\n",
    "ca = ca.transpose()\n",
    "\n",
    "ca_deaths = tab_deaths[tab_deaths['Province/State'] == 'California']\n",
    "ca_deaths = ca_deaths.transpose()"
   ]
  },
  {
   "cell_type": "code",
   "execution_count": 49,
   "metadata": {},
   "outputs": [],
   "source": [
    "us_confirmed_t = us_confirmed.transpose()"
   ]
  },
  {
   "cell_type": "code",
   "execution_count": 81,
   "metadata": {},
   "outputs": [
    {
     "data": {
      "text/plain": [
       "3899"
      ]
     },
     "execution_count": 81,
     "metadata": {},
     "output_type": "execute_result"
    }
   ],
   "source": [
    "ca.iloc[-1,0]"
   ]
  },
  {
   "cell_type": "code",
   "execution_count": 87,
   "metadata": {},
   "outputs": [
    {
     "data": {
      "image/png": "[encoded data removed]",
      "text/plain": [
       "<Figure size 1080x504 with 1 Axes>"
      ]
     },
     "metadata": {
      "needs_background": "light"
     },
     "output_type": "display_data"
    }
   ],
   "source": [
    "plt.figure(figsize=(15,7))\n",
    "plt.semilogy(ca.index[50:],ca.iloc[50:],'o-',label='Confirmed Cases',ms=10)\n",
    "#plt.semilogy(ca.index[50:],ca.iloc[50:],'o',color='C0',ms=10)\n",
    "#plt.semilogy(ca_deaths.index[50:],ca_deaths.iloc[50:],color='C1')\n",
    "#label the most recent case\n",
    "plt.text(ca.index[-1],ca.iloc[-1]*1.1,str(ca.iloc[-1,0]))\n",
    "plt.semilogy(ca_deaths.index[50:],ca_deaths.iloc[50:],'o-',color='C1',ms=10,label='Confirmed Deaths')\n",
    "plt.text(ca_deaths.index[-1],ca_deaths.iloc[-1,0]*1.1,str(ca_deaths.iloc[-1,0]))\n",
    "plt.ylabel('Number of California Cases')\n",
    "plt.ylim(10,10000)\n",
    "plt.legend(loc=2)\n",
    "plt.tight_layout()"
   ]
  },
  {
   "cell_type": "code",
   "execution_count": 7,
   "metadata": {},
   "outputs": [],
   "source": [
    "df = pd.read_html('http://www.publichealth.lacounty.gov/media/Coronavirus/locations.htm')"
   ]
  },
  {
   "cell_type": "code",
   "execution_count": 13,
   "metadata": {},
   "outputs": [],
   "source": [
    "la_county = df[0]"
   ]
  },
  {
   "cell_type": "code",
   "execution_count": 14,
   "metadata": {},
   "outputs": [
    {
     "data": {
      "text/plain": [
       "0            Laboratory Confirmed Cases (LCC)\n",
       "1     - Los Angeles County (excl. LB and Pas)\n",
       "2                                - Long Beach\n",
       "3                                  - Pasadena\n",
       "4                                         NaN\n",
       "                       ...                   \n",
       "80                                Westchester\n",
       "81                                   Westwood\n",
       "82                                   Whittier\n",
       "83                             Woodland Hills\n",
       "84                        Under Investigation\n",
       "Name: Locations, Length: 85, dtype: object"
      ]
     },
     "execution_count": 14,
     "metadata": {},
     "output_type": "execute_result"
    }
   ],
   "source": [
    "la_county['Locations']"
   ]
  },
  {
   "cell_type": "code",
   "execution_count": null,
   "metadata": {},
   "outputs": [],
   "source": []
  }
 ],
 "metadata": {
  "kernelspec": {
   "display_name": "Python 3",
   "language": "python",
   "name": "python3"
  },
  "language_info": {
   "codemirror_mode": {
    "name": "ipython",
    "version": 3
   },
   "file_extension": ".py",
   "mimetype": "text/x-python",
   "name": "python",
   "nbconvert_exporter": "python",
   "pygments_lexer": "ipython3",
   "version": "3.6.10"
  }
 },
 "nbformat": 4,
 "nbformat_minor": 4
}
